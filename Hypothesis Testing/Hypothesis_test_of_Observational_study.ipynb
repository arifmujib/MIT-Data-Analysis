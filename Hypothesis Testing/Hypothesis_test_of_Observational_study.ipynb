{
 "cells": [
  {
   "cell_type": "markdown",
   "id": "3d414edb-b118-42f7-a311-ad402206f29f",
   "metadata": {},
   "source": [
    "# Understanding the results of a vaccine study\n",
    "\n",
    "**BioNTech and Pfizer** developed a mRNA based vaccine that is highly effective in preventing COVID-19. Their research was published in an article in **[the New England Journal of Medicine](https://www.nejm.org/)** titled *[Safety and Efficacy of the BNT162b2 mRNA Covid-19 Vaccine](https://www.nejm.org/doi/full/10.1056/nejmoa2034577)*. In the article, they talk in detail about their research methodology and outcome of the study.\n",
    "These are the results.\n",
    "\n",
    "\n",
    "| Group| Participant| Infected|\n",
    "| :----: | :----: | :----: |\n",
    "| Treatment| 21,720| 8|\n",
    "| Control| 21,728| 162|\n",
    "\n",
    "How do we interpret the data?\n",
    "\n",
    "# Experimental Design:\n",
    "In this example, we want to understand the effectiveness of the vaccine to prevent the infection. A basic setting can be done with just two variables.\n",
    "1. Treatment variable: This can also be called as the independent variable. We can control which individual will get the treatment and who will get the placebo.\n",
    "2. Outcome variable: This is the dependent variable. For this study, whether a person is being infected or not can be the outcome variable.\n",
    "\n",
    "There are steps we can take to remove biases and improve the quality of experiment. I will not talk about these in this article. I am focusing on the statistical modeling and analysis in a study.\n",
    "We separate the participants in two groups called 1. Treatment Group, 2. Control Group. We apply the treatment to the treatment group and a placebo to the control group. After a certain period of time, we can get the number of people who got infected from each group. It will look like the data in the table. But how do we make a decision based on those numbers that the vaccine is effective in preventing infection? We can do a hypothesis test to check that assumption. \n",
    "\n",
    "# Hypothesis Test:\n",
    "A hypothesis test is a process where we have a claim and data that could help us find how acurate the claim is. We will test if the data supports the claim or not. We can not run a test to cover all the population and get the exact result. Since we are taking a sample of population, we have to use statistics to find the level of uncertainty in the data. There is a probability that the outcome we observe in the treatment group is due to this uncertainty.\n",
    "To perform the hypothesis test, the data is modeled as some random numbers following some probability distribution. Since control group is the status quo, we take the distribution based on them. Then we calculate the probability of the treatment outcome happening because of random behavior. We set a threshold or significance level. If it is below the threshhold, we say that the effect of the treatment is statistically significant.\n",
    "Let's do the hypotheis test following the steps below, \n",
    "1. Determine a model,\n",
    "2. Determine a null hypothesis and alternative hypothesis,\n",
    "3. Determine a test statistic,\n",
    "4. Determine a significance level\n",
    "\n",
    "I will discuss and explain briefly the steps below.\n"
   ]
  },
  {
   "cell_type": "markdown",
   "id": "433fc354-751f-49d2-b86d-325c6ca44bc0",
   "metadata": {},
   "source": [
    "## 1. Determine a model:\n",
    "We can assume that each participant from a group being infected is independent of other participants.\n",
    "We can model each participant being infected $(X =1)$ or not $(X =0)$ as $X_1,X_2,......X_n~$ [Bernoulli random variable](https://en.wikipedia.org/wiki/Bernoulli_distribution) with a probability ($\\pi$)( see Appendix). Here the $\\pi$, means the probability of a particient being infected. \n",
    "We can take $\\pi_0$ as the probability of a participant from the control group being infected and $\\pi_1$ as the probability of a participant from the treatment group being infected.  With this model, we have to find the Null hypothesis and Alternative hypothesis for our test. "
   ]
  },
  {
   "cell_type": "markdown",
   "id": "802ed8f1-a52a-4f8e-a8f0-6737ea8ed53a",
   "metadata": {},
   "source": [
    "## 2. Determine a null hypothesis and alternative hypothesis:\n",
    "Since we modeled each participant being infected as Bernoulli, the total number of infected people can be modeled as $Y = X_1+X_2+......X_n$ ~ Binomial(n, $\\pi$) random variable. From the data we can estimate the $\\pi = \\frac{162}{21728} = 0.00746$. We have to find out if treatment reduces the probability of being infected. Our null hypothesis will be that it does not reduce the probability of being infected in the treatment group or $\\pi_1=0.00746$. Our alternative hypothesis will be that it does reduce the probability of being infected in the treatment group $\\pi_1 <0.00746$.\n",
    "\n",
    "**Null Hypothesis, $H_0 : \\pi_1 = 0.00746$**\n",
    "\n",
    "**Alternative Hypothesis, $H_1 : \\pi_1 < 0.00746$**"
   ]
  },
  {
   "cell_type": "code",
   "execution_count": 1,
   "id": "9096c2be-14ae-4725-86cd-dfd5960fec92",
   "metadata": {
    "jupyter": {
     "source_hidden": true
    }
   },
   "outputs": [],
   "source": [
    "import numpy as np\n",
    "from scipy.stats import binom"
   ]
  },
  {
   "cell_type": "markdown",
   "id": "9b5efafe-3fbc-4ee5-a5cc-988d2de6781b",
   "metadata": {},
   "source": [
    "## 3. Determine a test statistic:\n",
    "\n",
    "The test statistic here is the total infection in the treatment group. Since each participant being infected was modeled as Bernoulli random number, total number of infected people in each group is a Binomial Random number( see Appendix). Here the test statistic is,\n",
    "\n",
    "$T\\rightarrow X_1+X_2+....+X_n=8$"
   ]
  },
  {
   "cell_type": "code",
   "execution_count": 2,
   "id": "66387e45-6c00-4f3f-a566-5819ce1d82f9",
   "metadata": {
    "jupyter": {
     "source_hidden": true
    }
   },
   "outputs": [],
   "source": [
    "numbers = range(0,250) \n",
    "binom_dist = [binom.pmf(i, 21728, 0.00746) for i in numbers]"
   ]
  },
  {
   "cell_type": "code",
   "execution_count": 3,
   "id": "d7fc02df-ac76-4eff-b4fa-a7450b183380",
   "metadata": {
    "jupyter": {
     "source_hidden": true
    }
   },
   "outputs": [],
   "source": [
    "import seaborn as sns\n",
    "import matplotlib.pyplot as plt"
   ]
  },
  {
   "cell_type": "markdown",
   "id": "3639e8b5-e825-46c2-9d53-1f22527ae767",
   "metadata": {},
   "source": [
    "## 4. Determine a significance level:\n",
    "The significance level is the amount of error that will be allowed in the experiment. Here we take significance level, $\\alpha = 0.05$.\n",
    "This means that test statistics that falls in the quantile less than the 0.05, will reject the null hypothesis."
   ]
  },
  {
   "cell_type": "code",
   "execution_count": 4,
   "id": "350aa2cc-d272-41b1-a25c-670085822a22",
   "metadata": {
    "jupyter": {
     "source_hidden": true
    }
   },
   "outputs": [
    {
     "name": "stdout",
     "output_type": "stream",
     "text": [
      "q_0.05 is at  142.0\n"
     ]
    }
   ],
   "source": [
    "print('q_0.05 is at ',binom.ppf(0.05, 21728, 0.00746))"
   ]
  },
  {
   "cell_type": "markdown",
   "id": "674ff906-23ec-46c2-bf99-f3c7ca3edb1a",
   "metadata": {},
   "source": [
    "This means that anything that is lower than this number will be enough to reject the Null Hypothesis."
   ]
  },
  {
   "cell_type": "code",
   "execution_count": 6,
   "id": "4f73486a-bda8-4493-b635-be109c834659",
   "metadata": {
    "tags": []
   },
   "outputs": [
    {
     "data": {
      "image/png": "[encoded data removed]",
      "text/plain": [
       "<Figure size 720x432 with 1 Axes>"
      ]
     },
     "metadata": {
      "needs_background": "light"
     },
     "output_type": "display_data"
    }
   ],
   "source": [
    "plt.figure(figsize=(10,6))\n",
    "sns.lineplot(x= numbers, y=binom_dist, linewidth=4)\n",
    "plt.vlines(8, ymin = 0, ymax= 0.001, colors='magenta', linestyles='dashed', linewidth=5)\n",
    "\n",
    "q_alpha = binom.ppf(0.05, 21728, 0.00746)\n",
    "plt.vlines(q_alpha,ymin=0, ymax=binom.pmf(q_alpha, 21728, 0.00746), color='r', linewidth=4)\n",
    "    \n",
    "\n",
    "plt.hlines(0, xmin = min(numbers), xmax=max(numbers), colors='g')\n",
    "plt.legend(['Dist of Test Statistics', 'Observed Statistics Value', '$Q_{0.05}$ area']);"
   ]
  },
  {
   "cell_type": "markdown",
   "id": "50f9d9f9-091e-48c4-997f-5f8b5180a5ca",
   "metadata": {},
   "source": [
    "The blue line indicates the Binomial distribution under the assumption of the Null hypothesis. The red line is the position of the 0.05 quantile or the significance level of this test. If the test statistic falls left of that line, we reject the null. The magenta dot is the test statistic."
   ]
  },
  {
   "cell_type": "markdown",
   "id": "92bf7b62-aad1-4fae-8063-3b70280c4c95",
   "metadata": {},
   "source": [
    "## Test:\n",
    "\n",
    "From the treatment group data, we can see that the test statistics or total number of infected is 8. Which is much smaller than the $q_{0.05}=142$. We can safely reject the null hypothesis. Another way of finding the statistical significance is using p-value. P-value is the cumulative probability that the test statistics is lower than the value observed."
   ]
  },
  {
   "cell_type": "code",
   "execution_count": 7,
   "id": "cd32be9b-bed2-4ecb-99c8-326e24984fc9",
   "metadata": {
    "tags": []
   },
   "outputs": [
    {
     "name": "stdout",
     "output_type": "stream",
     "text": [
      "The P-value for this study result is 0.00000\n"
     ]
    }
   ],
   "source": [
    "print(\"The P-value for this study result is %0.5f\"%(binom.cdf(8, 21728, 0.00746)))"
   ]
  },
  {
   "cell_type": "markdown",
   "id": "1cb046bb-9ab5-49d1-b529-3619eb26b31d",
   "metadata": {},
   "source": [
    "A commong practice among the statistics community is that a p-value less than 0.05 is a good measure of  statistical significance. Choosing a significance level 0.05 and checking for a p-value less that 0.05 mathematically checks the same thing.\n",
    "Another important thing to note that we have a habit of taking p-value as a determining factor of a scientific discovery. We should interpret the result carefully and should avoid using p-value without proper context. The article [*The ASA's Statement on p-Values: Context, Process, and Purpose* by **Wasserstein & Lazar**](https://amstat.tandfonline.com/doi/full/10.1080/00031305.2016.1154108#.WBCslMmJQ20) is a helpful guideline on this matter."
   ]
  },
  {
   "cell_type": "markdown",
   "id": "6ec57409-1834-4f8e-9c90-1185eb9bfd5c",
   "metadata": {},
   "source": [
    "# Appendix:\n",
    "\n",
    "### 1. Bernoulli Random variable:\n",
    "An example of Bernoulli random numbers is the outcome of a coin toss. Let's model getting a head in a toss as 1 and a tail as 0. The outcome of the toss is a Bernoulli Random variable. If the probability of getting a head is $\\pi$, the probability of getting a tail is $1-\\pi$\n",
    "\n",
    "### 2. Binomial Random variable:\n",
    "Binomial random number can be thought of the total of multiple coin toss. If all the coin are identical, they will have the same bias. Then the total outcome of how many heads or tails is a Binomial random variable."
   ]
  },
  {
   "cell_type": "code",
   "execution_count": null,
   "id": "3377a9c2-14d0-422e-8ae7-f24f368d786c",
   "metadata": {
    "jupyter": {
     "source_hidden": true
    }
   },
   "outputs": [],
   "source": []
  }
 ],
 "metadata": {
  "kernelspec": {
   "display_name": "Python 3",
   "language": "python",
   "name": "python3"
  },
  "language_info": {
   "codemirror_mode": {
    "name": "ipython",
    "version": 3
   },
   "file_extension": ".py",
   "mimetype": "text/x-python",
   "name": "python",
   "nbconvert_exporter": "python",
   "pygments_lexer": "ipython3",
   "version": "3.9.5"
  }
 },
 "nbformat": 4,
 "nbformat_minor": 5
}
