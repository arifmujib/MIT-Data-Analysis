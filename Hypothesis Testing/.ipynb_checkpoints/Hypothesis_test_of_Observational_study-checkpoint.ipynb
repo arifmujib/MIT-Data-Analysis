{
 "cells": [
  {
   "cell_type": "markdown",
   "id": "3d414edb-b118-42f7-a311-ad402206f29f",
   "metadata": {},
   "source": [
    "# Understanding the results of a vaccine study\n",
    "\n",
    "**BioNTech and Pfizer** developed a mRNA based vaccine that is highly effective in preventing COVID-19. Their research was published in an article in **[the New England Journal of Medicine](https://www.nejm.org/)** titled *[Safety and Efficacy of the BNT162b2 mRNA Covid-19 Vaccine](https://www.nejm.org/doi/full/10.1056/nejmoa2034577)*.\n",
    "\n",
    "The result section states,\n",
    "> A total of 43,548 participants underwent randomization, of whom 43,448 received injections: 21,720 with BNT162b2 and 21,728 with placebo. There were 8 cases of Covid-19 with onset at least 7 days after the second dose among participants assigned to receive BNT162b2 and 162 cases among those assigned to placebo; BNT162b2 was 95% effective in preventing Covid-19 (95% credible interval, 90.3 to 97.6).\n",
    "\n",
    "From this what we can understand,\n",
    "\n",
    "\n",
    "\n",
    "| Group| Participant| Infected|\n",
    "| :----: | :----: | :----: |\n",
    "| Treatment| 21,720| 8|\n",
    "| Control| 21,728| 162|\n",
    "\n",
    "Does these numbers mean that the vaccine is effective in preventing infection? We can do a hypothesis test to check that assumption. \n",
    "\n",
    "# Hypothesis Test:\n",
    "\n",
    "Let's do the hypotheis test following the steps below,\n",
    "1. Determine a model,\n",
    "2. Determine a null hypothesis and alternative hypothesis,\n",
    "3. Determine a test statistic,\n",
    "4. Determine a significance level\n",
    "\n",
    "I will discuss and explain briefly all the steps below.\n"
   ]
  },
  {
   "cell_type": "markdown",
   "id": "433fc354-751f-49d2-b86d-325c6ca44bc0",
   "metadata": {},
   "source": [
    "## 1. Determine a model:\n",
    "We can assume that each participant from a group being infected is independent of other participants.\n",
    "We can model each participant being infected $(X =1)$ or not $(X =0)$ as $X_1,X_2,......X_n~$ [Bernoulli random variable](https://en.wikipedia.org/wiki/Bernoulli_distribution) with a probability ($\\pi$). Here the $\\pi$, means the probability of a particient being infected. We can take $\\pi_0$ as the probability of a participant from the control group being infected and $\\pi_1$ as the probability of a participant from the treatment group being infected.  With this model, we have to find the Null hypothesis and Alternative hypothesis for our test. "
   ]
  },
  {
   "cell_type": "markdown",
   "id": "802ed8f1-a52a-4f8e-a8f0-6737ea8ed53a",
   "metadata": {},
   "source": [
    "## 2. Determine a null hypothesis and alternative hypothesis:\n",
    "Since we modeled each participant being infected as Bernoulli, the total number of infected people can be modeled as $Y = X_1+X_2+......X_n$ ~ Binomial(n, $\\pi$) random variable. From the data we can estimate the $\\pi = \\frac{162}{21728} = 0.00746$. We have to find out if treatment reduces the probability of being infected. Our null hypothesis will be that it does not reduce the probability of being infected in the treatment group or $\\pi_1=0.00746$. Our alternative hypothesis will be that it does reduce the probability of being infected in the treatment group $\\pi_1 <0.00746$.\n",
    "\n",
    "**Null Hypothesis, $H_0 : \\pi_1 = 0.00746$**\n",
    "\n",
    "**Alternative Hypothesis, $H_1 : \\pi_1 < 0.00746$**"
   ]
  },
  {
   "cell_type": "code",
   "execution_count": 3,
   "id": "9096c2be-14ae-4725-86cd-dfd5960fec92",
   "metadata": {},
   "outputs": [],
   "source": [
    "import numpy as np\n",
    "from scipy.stats import binom"
   ]
  },
  {
   "cell_type": "markdown",
   "id": "9b5efafe-3fbc-4ee5-a5cc-988d2de6781b",
   "metadata": {},
   "source": [
    "## 3. Determine a test statistic:\n",
    "\n",
    "The test statistics here is the total infection in the treatment group. Since each participant being infected was modeled as Bernoulli random number, total number of infected people in each group is a Binomial Random number. Here the test statistics is,\n",
    "\n",
    "$T\\rightarrow X_1+X_2+....+X_n=8$"
   ]
  },
  {
   "cell_type": "code",
   "execution_count": 39,
   "id": "66387e45-6c00-4f3f-a566-5819ce1d82f9",
   "metadata": {},
   "outputs": [],
   "source": [
    "numbers = range(100,250) \n",
    "binom_dist = [binom.pmf(i, 21728, 0.00746) for i in numbers]"
   ]
  },
  {
   "cell_type": "code",
   "execution_count": 25,
   "id": "d7fc02df-ac76-4eff-b4fa-a7450b183380",
   "metadata": {},
   "outputs": [],
   "source": [
    "import seaborn as sns\n",
    "import matplotlib.pyplot as plt"
   ]
  },
  {
   "cell_type": "code",
   "execution_count": 42,
   "id": "d3c166bb-0b12-413b-bcf8-9182654bd1aa",
   "metadata": {},
   "outputs": [
    {
     "data": {
      "image/png": "[encoded data removed]",
      "text/plain": [
       "<Figure size 432x288 with 1 Axes>"
      ]
     },
     "metadata": {
      "needs_background": "light"
     },
     "output_type": "display_data"
    }
   ],
   "source": [
    "sns.lineplot(x= numbers, y=binom_dist)\n",
    "plt.vlines(142,ymin=0, ymax=0.01, color='r')\n",
    "plt.hlines(0, xmin = min(numbers), xmax=max(numbers), colors='g')\n",
    "plt.legend(['Dist of Test Statistics', '']);"
   ]
  },
  {
   "cell_type": "markdown",
   "id": "9c3426b9-5dcf-4f3b-9ee3-5b2cc568702f",
   "metadata": {},
   "source": [
    "## 4. Determine a significance level:\n",
    "The significance level is the amount of error that will be allowed in the experiment. Here we take significance level, $\\alpha = 0.05$.\n",
    "This means that test statistics that falls in the quantile less than the 0.05, will reject the null hypothesis."
   ]
  },
  {
   "cell_type": "markdown",
   "id": "cd635c69-22cc-41e7-a212-bd769964db40",
   "metadata": {},
   "source": [
    "## Test:\n",
    "The test statistics value is much smaller than the $q_0.05$"
   ]
  },
  {
   "cell_type": "code",
   "execution_count": null,
   "id": "cd32be9b-bed2-4ecb-99c8-326e24984fc9",
   "metadata": {},
   "outputs": [],
   "source": [
    "binom.cdf(8, 21728, 0.00746) "
   ]
  }
 ],
 "metadata": {
  "kernelspec": {
   "display_name": "Python 3",
   "language": "python",
   "name": "python3"
  },
  "language_info": {
   "codemirror_mode": {
    "name": "ipython",
    "version": 3
   },
   "file_extension": ".py",
   "mimetype": "text/x-python",
   "name": "python",
   "nbconvert_exporter": "python",
   "pygments_lexer": "ipython3",
   "version": "3.9.5"
  }
 },
 "nbformat": 4,
 "nbformat_minor": 5
}
